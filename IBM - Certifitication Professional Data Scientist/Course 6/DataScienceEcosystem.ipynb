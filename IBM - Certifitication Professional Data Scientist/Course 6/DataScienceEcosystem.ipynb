{
 "cells": [
  {
   "cell_type": "markdown",
   "id": "dd8e050a",
   "metadata": {},
   "source": [
    "# Data Science Tools and Ecosystem\n",
    "![2-title.png](img2.png)"
   ]
  },
  {
   "cell_type": "markdown",
   "id": "24772978",
   "metadata": {},
   "source": [
    "## In this notebook, Data Science Tools and Ecosystem are summarized.\n",
    "![3-intro.png](img3.png)"
   ]
  },
  {
   "cell_type": "markdown",
   "id": "4d5196bb",
   "metadata": {},
   "source": [
    "**Some of the popular languages that Data Scientists use are:**\n",
    "1. Python\n",
    "2. R\n",
    "3. C\n",
    "4. C++"
   ]
  },
  {
   "cell_type": "markdown",
   "id": "78dbc932",
   "metadata": {},
   "source": [
    "![4-dslanguages.png](img4.png)"
   ]
  },
  {
   "cell_type": "markdown",
   "id": "eea63c4f",
   "metadata": {},
   "source": [
    "**Some of the commonly used libraries used by Data Scientists include:**\n",
    "1. Pandas\n",
    "2. Numpy\n",
    "3. Matplotlib\n",
    "4. Seaborn\n",
    "5. Scikit-learn\n",
    "6. Tensorflow\n",
    "7. Keras"
   ]
  },
  {
   "cell_type": "markdown",
   "id": "e427f981",
   "metadata": {},
   "source": [
    "![5-dslibraries.png](img5.png)"
   ]
  },
  {
   "cell_type": "markdown",
   "id": "b4d623f1",
   "metadata": {},
   "source": [
    "**Data Science Tools**\n",
    "<br>\n",
    "|**Categories**|**Tools**|\n",
    "|--------------|---------|\n",
    "|Data Management|MySQL,PostgreSQL,MongoDB|\n",
    "|Data Integration|Apache Airflow, Kubeflow, Apache Kafka|\n",
    "|Model Deployment|Seldon, Redhat Openshift, Tensorflow Lite|"
   ]
  },
  {
   "attachments": {},
   "cell_type": "markdown",
   "id": "a04ff6f8",
   "metadata": {},
   "source": [
    "![6-dstools.png](img6.png)"
   ]
  },
  {
   "cell_type": "markdown",
   "id": "46e0b22e",
   "metadata": {},
   "source": [
    "### Below are a few examples of evaluating arithmetic expressions in Python"
   ]
  },
  {
   "attachments": {},
   "cell_type": "markdown",
   "id": "d8cea095",
   "metadata": {},
   "source": [
    "![7-introarithmetic.png](img7.png)"
   ]
  },
  {
   "cell_type": "code",
   "execution_count": 2,
   "id": "7cab6b7b",
   "metadata": {},
   "outputs": [
    {
     "data": {
      "text/plain": [
       "17"
      ]
     },
     "execution_count": 2,
     "metadata": {},
     "output_type": "execute_result"
    }
   ],
   "source": [
    "#This a simple arithmetic expression to mutiply then add integers\n",
    "(3*4)+5"
   ]
  },
  {
   "cell_type": "markdown",
   "id": "0f428557",
   "metadata": {},
   "source": [
    "![8-multiplyandaddintegers.png](img8.png)"
   ]
  },
  {
   "cell_type": "code",
   "execution_count": 9,
   "id": "ab1f30f4",
   "metadata": {},
   "outputs": [
    {
     "name": "stdout",
     "output_type": "stream",
     "text": [
      "200 minutes is equals  3.3333333333333335 Hours\n"
     ]
    }
   ],
   "source": [
    "#This will convert 200 minutes to hours by diving by 60\n",
    "mnt = 200\n",
    "hrs = 60\n",
    "convert = mnt/hrs\n",
    "print (mnt,\"minutes is equals \",convert,\"Hours\")"
   ]
  },
  {
   "cell_type": "markdown",
   "id": "e21ec40c",
   "metadata": {},
   "source": [
    "![9-hourstominutes.png](img9.png)"
   ]
  },
  {
   "cell_type": "markdown",
   "id": "22339a33",
   "metadata": {},
   "source": [
    "**Objectives:**\n",
    "<br>\n",
    "Libraries for Data Scienctist:\n",
    "1. Scientific Computing\n",
    "    - Pandas : Data Structures & Tools\n",
    "    - Numpy : Array & Matrices\n",
    "<br>\n",
    "<br>\n",
    "2. Visualization\n",
    "    - Matplotlib : Plots & graphs\n",
    "    - Seaborn : Plots(heatmps,violin plots, time series)\n",
    "<br>\n",
    "<br>    \n",
    "3. Machine Learning & Deep Learning\n",
    "    - Scikit-learn : Regression, Classification, Clustering\n",
    "    - Keras : Deep Learning Neural Networkss\n",
    "<br>\n",
    "<br>\n",
    "4. Deep Learning\n",
    "    - Tensorflow : Production & Deployment\n",
    "    - PyTorch : Deep Learning Regression, Classification"
   ]
  },
  {
   "cell_type": "markdown",
   "id": "9c0e6669",
   "metadata": {},
   "source": [
    "![10-objectives.png](img10.png)"
   ]
  },
  {
   "cell_type": "markdown",
   "id": "54f3bcd7",
   "metadata": {},
   "source": [
    "## Author\n",
    "\n",
    "\n",
    "Tirta Rumy Swandaru"
   ]
  },
  {
   "cell_type": "markdown",
   "id": "c93afbde",
   "metadata": {},
   "source": [
    "![11-authordetails.png](img11.png)"
   ]
  },
  {
   "cell_type": "markdown",
   "id": "0602e61d",
   "metadata": {},
   "source": [
    "![1-notebook.png](img13.png)"
   ]
  }
 ],
 "metadata": {
  "kernelspec": {
   "display_name": "Python 3 (ipykernel)",
   "language": "python",
   "name": "python3"
  },
  "language_info": {
   "codemirror_mode": {
    "name": "ipython",
    "version": 3
   },
   "file_extension": ".py",
   "mimetype": "text/x-python",
   "name": "python",
   "nbconvert_exporter": "python",
   "pygments_lexer": "ipython3",
   "version": "3.11.9"
  }
 },
 "nbformat": 4,
 "nbformat_minor": 5
}
